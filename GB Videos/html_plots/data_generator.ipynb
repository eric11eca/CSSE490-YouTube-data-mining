{
 "nbformat": 4,
 "nbformat_minor": 2,
 "metadata": {
  "language_info": {
   "name": "python",
   "codemirror_mode": {
    "name": "ipython",
    "version": 3
   },
   "version": "3.7.6-final"
  },
  "orig_nbformat": 2,
  "file_extension": ".py",
  "mimetype": "text/x-python",
  "name": "python",
  "npconvert_exporter": "python",
  "pygments_lexer": "ipython3",
  "version": 3,
  "kernelspec": {
   "name": "python3",
   "display_name": "Python 3"
  }
 },
 "cells": [
  {
   "cell_type": "code",
   "execution_count": null,
   "metadata": {},
   "outputs": [],
   "source": [
    "import file"
   ]
  },
  {
   "cell_type": "code",
   "execution_count": 10,
   "metadata": {},
   "outputs": [],
   "source": [
    "with open('name.txt') as f:\n",
    "    names = f.readlines()\n",
    "content = [x.strip() for x in names] "
   ]
  },
  {
   "cell_type": "code",
   "execution_count": 11,
   "metadata": {},
   "outputs": [],
   "source": [
    "namelib = set(content)"
   ]
  },
  {
   "cell_type": "code",
   "execution_count": 12,
   "metadata": {},
   "outputs": [],
   "source": [
    "names = []\n",
    "while len(namelib) != 0:\n",
    "    name = namelib.pop() + ' ' + namelib.pop()\n",
    "    names.append(name)"
   ]
  },
  {
   "cell_type": "code",
   "execution_count": 13,
   "metadata": {},
   "outputs": [
    {
     "data": {
      "text/plain": "['Dallas Ahmed',\n 'Samuel Nickel',\n 'Landon Baqer',\n 'Didi Myers',\n 'Chai Hummel',\n 'Eric Omar',\n 'Evans Jung',\n 'Ji Lujain',\n 'Fayoumi Su',\n 'Warning Dalal',\n 'Kline Orbeta',\n 'Chengyu Daniel',\n 'Fatta Bima',\n 'Ganesh Qi',\n 'McEvoy Wang',\n 'Jacob Gajavelli',\n 'Ju Dickinson',\n 'Will Mohammad',\n 'Braden Woodrome',\n 'Josh Bouvier',\n 'Shimizu Bundy',\n 'Katie Carter',\n 'Bednarek Hendrich',\n 'Trey Foisy',\n 'Jiacheng Kattman',\n 'Qiu Travis',\n 'Matt Wendy',\n 'Qian Catherine',\n 'Tristen Steven',\n 'Rikako Jake',\n 'John Chen']"
     },
     "execution_count": 13,
     "metadata": {},
     "output_type": "execute_result"
    }
   ],
   "source": [
    "names"
   ]
  },
  {
   "cell_type": "code",
   "execution_count": 15,
   "metadata": {},
   "outputs": [],
   "source": [
    "from random import randint\n",
    "\n",
    "def random_with_N_digits(n):\n",
    "    range_start = 10**(n-1)\n",
    "    range_end = (10**n)-1\n",
    "    return randint(range_start, range_end)\n",
    "\n",
    "ssns = []\n",
    "for i in range(len(names)):\n",
    "    ssns.append(random_with_N_digits(9))"
   ]
  },
  {
   "cell_type": "code",
   "execution_count": 16,
   "metadata": {},
   "outputs": [
    {
     "data": {
      "text/plain": "[875022675,\n 119525332,\n 593875153,\n 882703342,\n 135027866,\n 696607933,\n 865084518,\n 561995646,\n 498084132,\n 841300601,\n 774938279,\n 117568550,\n 926572874,\n 731611830,\n 175998145,\n 842619399,\n 596430885,\n 294965313,\n 745790871,\n 977359269,\n 530620320,\n 832917724,\n 151300716,\n 975766214,\n 780505903,\n 581497365,\n 633844988,\n 949655702,\n 436495954,\n 214411056,\n 719234692]"
     },
     "execution_count": 16,
     "metadata": {},
     "output_type": "execute_result"
    }
   ],
   "source": [
    "ssns"
   ]
  },
  {
   "cell_type": "code",
   "execution_count": 35,
   "metadata": {},
   "outputs": [],
   "source": [
    "roles = ['Import Plan Manager', 'Export Plan Manager', 'Storage Area Maintainer','Container Infomation Recorder','Vessel Dispatcher','Container Distributor']\n"
   ]
  },
  {
   "cell_type": "code",
   "execution_count": 36,
   "metadata": {},
   "outputs": [],
   "source": [
    "rows = []\n",
    "for i in range (len(names)):\n",
    "    if i == 10:\n",
    "       rows.append([ssns[i], 'Superior Manager', names[i]]) \n",
    "    elif i == 15:\n",
    "       rows.append([ssns[i], 'Human Resource', names[i]]) \n",
    "    elif i == 20:\n",
    "       rows.append([ssns[i], 'Customer Communicator', names[i]]) \n",
    "    elif i == 25:\n",
    "       rows.append([ssns[i], 'Customer Communicator', names[i]]) \n",
    "    elif i == 30:\n",
    "       rows.append([ssns[i], 'Customer Financial Manager', names[i]]) \n",
    "    elif i == 31:\n",
    "       rows.append([ssns[i], 'Customer Financial Manager', names[i]]) \n",
    "    else:\n",
    "        rows.append([ssns[i], random.choice(roles), names[i]])"
   ]
  },
  {
   "cell_type": "code",
   "execution_count": 39,
   "metadata": {},
   "outputs": [],
   "source": [
    "import pandas as pd\n",
    "import numpy as np \n",
    "df = pd.DataFrame(np.array(rows), columns=['SSN','Role','Name'])"
   ]
  },
  {
   "cell_type": "code",
   "execution_count": 40,
   "metadata": {},
   "outputs": [],
   "source": [
    "df.head()\n",
    "df.to_csv('Employee.csv')"
   ]
  },
  {
   "cell_type": "code",
   "execution_count": 43,
   "metadata": {},
   "outputs": [],
   "source": [
    "storage_area = [\n",
    "    [101, 'Normal', 1440, 80],\n",
    "    [102, 'Normal', 1440, 80],\n",
    "    [103, 'Normal', 1440, 80],\n",
    "    [104, 'Normal', 1440, 80],\n",
    "    [105, 'Normal', 1440, 80],\n",
    "    [106, 'Normal', 1440, 80],\n",
    "    [107, 'Normal', 1440, 80],\n",
    "    [108, 'Normal', 1440, 80],\n",
    "    [109, 'Normal', 1440, 80],\n",
    "    [110, 'Normal', 1440, 80],\n",
    "    [201, 'Hazardous', 1440, 120],\n",
    "    [202, 'Hazardous', 1440, 120],\n",
    "    [203, 'Hazardous', 1440, 120],\n",
    "    [301, 'Reefer', 1440, 200],\n",
    "    [302, 'Reefer', 1440, 200],\n",
    "    [303, 'Reefer', 1440, 200],\n",
    "    [401, 'Pending', 960, 80],\n",
    "    [402, 'Pending', 960, 80]\n",
    "]\n",
    "\n",
    "df2 = pd.DataFrame(np.array(storage_area), columns=['StorageID','Type','Capacity','StoragePrice'])\n",
    "df2.to_csv('StorageArea.csv')"
   ]
  },
  {
   "cell_type": "code",
   "execution_count": null,
   "metadata": {},
   "outputs": [],
   "source": []
  }
 ]
}